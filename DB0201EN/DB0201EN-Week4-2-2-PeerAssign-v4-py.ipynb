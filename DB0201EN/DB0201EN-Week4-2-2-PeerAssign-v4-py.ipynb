{
 "cells": [
  {
   "cell_type": "markdown",
   "metadata": {},
   "source": [
    "<a href=\"https://cognitiveclass.ai\"><img src = \"https://ibm.box.com/shared/static/ugcqz6ohbvff804xp84y4kqnvvk3bq1g.png\" width = 300, align = \"center\"></a>\n",
    "\n",
    "<h1 align=center><font size = 5>Assignment: Notebook for Peer Assignment</font></h1>"
   ]
  },
  {
   "cell_type": "markdown",
   "metadata": {},
   "source": [
    "# Introduction\n",
    "\n",
    "Using this Python notebook you will:\n",
    "1. Understand 3 Chicago datasets  \n",
    "1. Load the 3 datasets into 3 tables in a Db2 database\n",
    "1. Execute SQL queries to answer assignment questions "
   ]
  },
  {
   "cell_type": "markdown",
   "metadata": {},
   "source": [
    "## Understand the datasets \n",
    "To complete the assignment problems in this notebook you will be using three datasets that are available on the city of Chicago's Data Portal:\n",
    "1. <a href=\"https://data.cityofchicago.org/Health-Human-Services/Census-Data-Selected-socioeconomic-indicators-in-C/kn9c-c2s2\">Socioeconomic Indicators in Chicago</a>\n",
    "1. <a href=\"https://data.cityofchicago.org/Education/Chicago-Public-Schools-Progress-Report-Cards-2011-/9xs2-f89t\">Chicago Public Schools</a>\n",
    "1. <a href=\"https://data.cityofchicago.org/Public-Safety/Crimes-2001-to-present/ijzp-q8t2\">Chicago Crime Data</a>\n",
    "\n",
    "### 1. Socioeconomic Indicators in Chicago\n",
    "This dataset contains a selection of six socioeconomic indicators of public health significance and a “hardship index,” for each Chicago community area, for the years 2008 – 2012.\n",
    "\n",
    "For this assignment you will use a snapshot of this dataset which can be downloaded from:\n",
    "https://ibm.box.com/shared/static/05c3415cbfbtfnr2fx4atenb2sd361ze.csv\n",
    "\n",
    "A detailed description of this dataset and the original dataset can be obtained from the Chicago Data Portal at:\n",
    "https://data.cityofchicago.org/Health-Human-Services/Census-Data-Selected-socioeconomic-indicators-in-C/kn9c-c2s2\n",
    "\n",
    "\n",
    "\n",
    "### 2. Chicago Public Schools\n",
    "\n",
    "This dataset shows all school level performance data used to create CPS School Report Cards for the 2011-2012 school year. This dataset is provided by the city of Chicago's Data Portal.\n",
    "\n",
    "For this assignment you will use a snapshot of this dataset which can be downloaded from:\n",
    "https://ibm.box.com/shared/static/0g7kbanvn5l2gt2qu38ukooatnjqyuys.csv\n",
    "\n",
    "A detailed description of this dataset and the original dataset can be obtained from the Chicago Data Portal at:\n",
    "https://data.cityofchicago.org/Education/Chicago-Public-Schools-Progress-Report-Cards-2011-/9xs2-f89t\n",
    "\n",
    "\n",
    "\n",
    "\n",
    "### 3. Chicago Crime Data \n",
    "\n",
    "This dataset reflects reported incidents of crime (with the exception of murders where data exists for each victim) that occurred in the City of Chicago from 2001 to present, minus the most recent seven days. \n",
    "\n",
    "This dataset is quite large - over 1.5GB in size with over 6.5 million rows. For the purposes of this assignment we will use a much smaller sample of this dataset which can be downloaded from:\n",
    "https://ibm.box.com/shared/static/svflyugsr9zbqy5bmowgswqemfpm1x7f.csv\n",
    "\n",
    "A detailed description of this dataset and the original dataset can be obtained from the Chicago Data Portal at:\n",
    "https://data.cityofchicago.org/Public-Safety/Crimes-2001-to-present/ijzp-q8t2\n"
   ]
  },
  {
   "cell_type": "markdown",
   "metadata": {},
   "source": [
    "### Download the datasets\n",
    "In many cases the dataset to be analyzed is available as a .CSV (comma separated values) file, perhaps on the internet. Click on the links below to download and save the datasets (.CSV files):\n",
    "1. __CENSUS_DATA:__ https://ibm.box.com/shared/static/05c3415cbfbtfnr2fx4atenb2sd361ze.csv\n",
    "1. __CHICAGO_PUBLIC_SCHOOLS__ https://ibm.box.com/shared/static/0g7kbanvn5l2gt2qu38ukooatnjqyuys.csv\n",
    "1. __CHICAGO_CRIME_DATA:__ https://ibm.box.com/shared/static/svflyugsr9zbqy5bmowgswqemfpm1x7f.csv\n",
    "\n",
    "__NOTE:__ Ensure you have downloaded the datasets using the links above instead of directly from the Chicago Data Portal. The versions linked here are subsets of the original datasets and have some of the column names modified to be more database friendly which will make it easier to complete this assignment."
   ]
  },
  {
   "cell_type": "markdown",
   "metadata": {},
   "source": [
    "### Store the datasets in database tables\n",
    "To analyze the data using SQL, it first needs to be stored in the database.\n",
    "\n",
    "While it is easier to read the dataset into a Pandas dataframe and then PERSIST it into the database as we saw in Week 3 Lab 3, it results in mapping to default datatypes which may not be optimal for SQL querying. For example a long textual field may map to a CLOB instead of a VARCHAR. \n",
    "\n",
    "Therefore, __it is highly recommended to manually load the table using the database console LOAD tool, as indicated in Week 2 Lab 1 Part II__. The only difference with that lab is that in Step 5 of the instructions you will need to click on create \"(+) New Table\" and specify the name of the table you want to create and then click \"Next\". \n",
    "\n",
    "<img src = \"https://ibm.box.com/shared/static/uc4xjh1uxcc78ks1i18v668simioz4es.jpg\">\n",
    "\n",
    "##### Now open the Db2 console, open the LOAD tool, Select / Drag the .CSV file for the first dataset, Next create a New Table, and then follow the steps on-screen instructions to load the data. Name the new tables as folows:\n",
    "1. __CENSUS_DATA__\n",
    "1. __CHICAGO_PUBLIC_SCHOOLS__\n",
    "1. __CHICAGO_CRIME_DATA__"
   ]
  },
  {
   "cell_type": "markdown",
   "metadata": {},
   "source": [
    "### Connect to the database \n",
    "Let us first load the SQL extension and establish a connection with the database"
   ]
  },
  {
   "cell_type": "code",
   "execution_count": 2,
   "metadata": {},
   "outputs": [],
   "source": [
    "%load_ext sql"
   ]
  },
  {
   "cell_type": "markdown",
   "metadata": {},
   "source": [
    "In the next cell enter your db2 connection string. Recall you created Service Credentials for your Db2 instance in Part III of the first lab in the course. From the __uri__ field of your Db2 service credentials copy everything after db2:// (except the double quote at the end) and paste it in the cell below after ibm_db_sa://\n",
    "\n",
    "<img src =\"https://ibm.box.com/shared/static/hzhkvdyinpupm2wfx49lkr71q9swbpec.jpg\">"
   ]
  },
  {
   "cell_type": "code",
   "execution_count": 3,
   "metadata": {},
   "outputs": [
    {
     "data": {
      "text/plain": [
       "'Connected: zxg24050@BLUDB'"
      ]
     },
     "execution_count": 3,
     "metadata": {},
     "output_type": "execute_result"
    }
   ],
   "source": [
    "# Remember the connection string is of the format:\n",
    "# %sql ibm_db_sa://my-username:my-password@my-hostname:my-port/my-db-name\n",
    "# Enter the connection string for your Db2 on Cloud database instance below\n",
    "%sql ibm_db_sa://zxg24050:c8xjr^88dfz3gvr4@dashdb-txn-sbox-yp-lon02-01.services.eu-gb.bluemix.net:50000/BLUDB"
   ]
  },
  {
   "cell_type": "markdown",
   "metadata": {},
   "source": [
    "## Problems\n",
    "Now write and execute SQL queries to solve assignment problems\n",
    "\n",
    "### Problem 1\n",
    "\n",
    "##### How many rows are in each dataset?"
   ]
  },
  {
   "cell_type": "code",
   "execution_count": 4,
   "metadata": {},
   "outputs": [
    {
     "name": "stdout",
     "output_type": "stream",
     "text": [
      " * ibm_db_sa://zxg24050:***@dashdb-txn-sbox-yp-lon02-01.services.eu-gb.bluemix.net:50000/BLUDB\n",
      "Done.\n"
     ]
    },
    {
     "data": {
      "text/html": [
       "<table>\n",
       "    <tr>\n",
       "        <th>1</th>\n",
       "    </tr>\n",
       "    <tr>\n",
       "        <td>78</td>\n",
       "    </tr>\n",
       "</table>"
      ],
      "text/plain": [
       "[(Decimal('78'),)]"
      ]
     },
     "execution_count": 4,
     "metadata": {},
     "output_type": "execute_result"
    }
   ],
   "source": [
    "# Rows in Census Data (Socieconimic Indicators)\n",
    "%sql select count(*) from CENSUS_DATA"
   ]
  },
  {
   "cell_type": "code",
   "execution_count": 5,
   "metadata": {},
   "outputs": [
    {
     "name": "stdout",
     "output_type": "stream",
     "text": [
      " * ibm_db_sa://zxg24050:***@dashdb-txn-sbox-yp-lon02-01.services.eu-gb.bluemix.net:50000/BLUDB\n",
      "Done.\n"
     ]
    },
    {
     "data": {
      "text/html": [
       "<table>\n",
       "    <tr>\n",
       "        <th>1</th>\n",
       "    </tr>\n",
       "    <tr>\n",
       "        <td>566</td>\n",
       "    </tr>\n",
       "</table>"
      ],
      "text/plain": [
       "[(Decimal('566'),)]"
      ]
     },
     "execution_count": 5,
     "metadata": {},
     "output_type": "execute_result"
    }
   ],
   "source": [
    "# Rows in Public Schools\n",
    "%sql select count(*) from CHICAGO_PUBLIC_SCHOOLS"
   ]
  },
  {
   "cell_type": "code",
   "execution_count": 6,
   "metadata": {},
   "outputs": [
    {
     "name": "stdout",
     "output_type": "stream",
     "text": [
      " * ibm_db_sa://zxg24050:***@dashdb-txn-sbox-yp-lon02-01.services.eu-gb.bluemix.net:50000/BLUDB\n",
      "Done.\n"
     ]
    },
    {
     "data": {
      "text/html": [
       "<table>\n",
       "    <tr>\n",
       "        <th>1</th>\n",
       "    </tr>\n",
       "    <tr>\n",
       "        <td>533</td>\n",
       "    </tr>\n",
       "</table>"
      ],
      "text/plain": [
       "[(Decimal('533'),)]"
      ]
     },
     "execution_count": 6,
     "metadata": {},
     "output_type": "execute_result"
    }
   ],
   "source": [
    "# Rows in Crime Data\n",
    "%sql select count(*) from CHICAGO_CRIME_DATA"
   ]
  },
  {
   "cell_type": "markdown",
   "metadata": {},
   "source": [
    "### Problem 2\n",
    "\n",
    "##### Find average college enrollments by community area\n",
    "\n",
    "(When taking a screenshot for sharing, the first 5-10 rows of the result set are sufficient)"
   ]
  },
  {
   "cell_type": "code",
   "execution_count": 12,
   "metadata": {
    "collapsed": true
   },
   "outputs": [
    {
     "name": "stdout",
     "output_type": "stream",
     "text": [
      " * ibm_db_sa://zxg24050:***@dashdb-txn-sbox-yp-lon02-01.services.eu-gb.bluemix.net:50000/BLUDB\n",
      "Done.\n"
     ]
    },
    {
     "data": {
      "text/html": [
       "<table>\n",
       "    <tr>\n",
       "        <th>Mean Enrollment</th>\n",
       "        <th>Community Area</th>\n",
       "    </tr>\n",
       "    <tr>\n",
       "        <td>858.000000</td>\n",
       "        <td>ALBANY PARK</td>\n",
       "    </tr>\n",
       "    <tr>\n",
       "        <td>2411.500000</td>\n",
       "        <td>ARCHER HEIGHTS</td>\n",
       "    </tr>\n",
       "    <tr>\n",
       "        <td>486.000000</td>\n",
       "        <td>ARMOUR SQUARE</td>\n",
       "    </tr>\n",
       "    <tr>\n",
       "        <td>810.375000</td>\n",
       "        <td>ASHBURN</td>\n",
       "    </tr>\n",
       "    <tr>\n",
       "        <td>417.500000</td>\n",
       "        <td>AUBURN GRESHAM</td>\n",
       "    </tr>\n",
       "    <tr>\n",
       "        <td>475.347826</td>\n",
       "        <td>AUSTIN</td>\n",
       "    </tr>\n",
       "    <tr>\n",
       "        <td>507.333333</td>\n",
       "        <td>AVALON PARK</td>\n",
       "    </tr>\n",
       "    <tr>\n",
       "        <td>910.000000</td>\n",
       "        <td>AVONDALE</td>\n",
       "    </tr>\n",
       "    <tr>\n",
       "        <td>1198.833333</td>\n",
       "        <td>BELMONT CRAGIN</td>\n",
       "    </tr>\n",
       "    <tr>\n",
       "        <td>409.000000</td>\n",
       "        <td>BEVERLY</td>\n",
       "    </tr>\n",
       "    <tr>\n",
       "        <td>633.400000</td>\n",
       "        <td>BRIDGEPORT</td>\n",
       "    </tr>\n",
       "    <tr>\n",
       "        <td>1205.875000</td>\n",
       "        <td>BRIGHTON PARK</td>\n",
       "    </tr>\n",
       "    <tr>\n",
       "        <td>549.000000</td>\n",
       "        <td>BURNSIDE</td>\n",
       "    </tr>\n",
       "    <tr>\n",
       "        <td>261.333333</td>\n",
       "        <td>CALUMET HEIGHTS</td>\n",
       "    </tr>\n",
       "    <tr>\n",
       "        <td>560.222222</td>\n",
       "        <td>CHATHAM</td>\n",
       "    </tr>\n",
       "    <tr>\n",
       "        <td>1012.285714</td>\n",
       "        <td>CHICAGO LAWN</td>\n",
       "    </tr>\n",
       "    <tr>\n",
       "        <td>521.250000</td>\n",
       "        <td>CLEARING</td>\n",
       "    </tr>\n",
       "    <tr>\n",
       "        <td>424.545454</td>\n",
       "        <td>DOUGLAS</td>\n",
       "    </tr>\n",
       "    <tr>\n",
       "        <td>761.333333</td>\n",
       "        <td>DUNNING</td>\n",
       "    </tr>\n",
       "    <tr>\n",
       "        <td>410.538461</td>\n",
       "        <td>EAST GARFIELD PARK</td>\n",
       "    </tr>\n",
       "    <tr>\n",
       "        <td>1061.000000</td>\n",
       "        <td>EAST SIDE</td>\n",
       "    </tr>\n",
       "    <tr>\n",
       "        <td>766.666666</td>\n",
       "        <td>EDGEWATER</td>\n",
       "    </tr>\n",
       "    <tr>\n",
       "        <td>455.000000</td>\n",
       "        <td>EDISON PARK</td>\n",
       "    </tr>\n",
       "    <tr>\n",
       "        <td>401.882352</td>\n",
       "        <td>ENGLEWOOD</td>\n",
       "    </tr>\n",
       "    <tr>\n",
       "        <td>477.000000</td>\n",
       "        <td>FOREST GLEN</td>\n",
       "    </tr>\n",
       "    <tr>\n",
       "        <td>265.500000</td>\n",
       "        <td>FULLER PARK</td>\n",
       "    </tr>\n",
       "    <tr>\n",
       "        <td>991.500000</td>\n",
       "        <td>GAGE PARK</td>\n",
       "    </tr>\n",
       "    <tr>\n",
       "        <td>910.400000</td>\n",
       "        <td>GARFIELD RIDGE</td>\n",
       "    </tr>\n",
       "    <tr>\n",
       "        <td>351.125000</td>\n",
       "        <td>GRAND BOULEVARD</td>\n",
       "    </tr>\n",
       "    <tr>\n",
       "        <td>405.100000</td>\n",
       "        <td>GREATER GRAND CROSSING</td>\n",
       "    </tr>\n",
       "    <tr>\n",
       "        <td>481.500000</td>\n",
       "        <td>HEGEWISCH</td>\n",
       "    </tr>\n",
       "    <tr>\n",
       "        <td>993.750000</td>\n",
       "        <td>HERMOSA</td>\n",
       "    </tr>\n",
       "    <tr>\n",
       "        <td>663.076923</td>\n",
       "        <td>HUMBOLDT PARK</td>\n",
       "    </tr>\n",
       "    <tr>\n",
       "        <td>482.500000</td>\n",
       "        <td>HYDE PARK</td>\n",
       "    </tr>\n",
       "    <tr>\n",
       "        <td>862.666666</td>\n",
       "        <td>IRVING PARK</td>\n",
       "    </tr>\n",
       "    <tr>\n",
       "        <td>877.500000</td>\n",
       "        <td>JEFFERSON PARK</td>\n",
       "    </tr>\n",
       "    <tr>\n",
       "        <td>612.428571</td>\n",
       "        <td>KENWOOD</td>\n",
       "    </tr>\n",
       "    <tr>\n",
       "        <td>641.363636</td>\n",
       "        <td>LAKE VIEW</td>\n",
       "    </tr>\n",
       "    <tr>\n",
       "        <td>802.142857</td>\n",
       "        <td>LINCOLN PARK</td>\n",
       "    </tr>\n",
       "    <tr>\n",
       "        <td>826.400000</td>\n",
       "        <td>LINCOLN SQUARE</td>\n",
       "    </tr>\n",
       "    <tr>\n",
       "        <td>668.272727</td>\n",
       "        <td>LOGAN SQUARE</td>\n",
       "    </tr>\n",
       "    <tr>\n",
       "        <td>871.000000</td>\n",
       "        <td>LOOP</td>\n",
       "    </tr>\n",
       "    <tr>\n",
       "        <td>659.727272</td>\n",
       "        <td>LOWER WEST SIDE</td>\n",
       "    </tr>\n",
       "    <tr>\n",
       "        <td>388.000000</td>\n",
       "        <td>MCKINLEY PARK</td>\n",
       "    </tr>\n",
       "    <tr>\n",
       "        <td>1317.000000</td>\n",
       "        <td>MONTCLARE</td>\n",
       "    </tr>\n",
       "    <tr>\n",
       "        <td>654.200000</td>\n",
       "        <td>MORGAN PARK</td>\n",
       "    </tr>\n",
       "    <tr>\n",
       "        <td>522.750000</td>\n",
       "        <td>MOUNT GREENWOOD</td>\n",
       "    </tr>\n",
       "    <tr>\n",
       "        <td>480.285714</td>\n",
       "        <td>NEAR NORTH SIDE</td>\n",
       "    </tr>\n",
       "    <tr>\n",
       "        <td>459.333333</td>\n",
       "        <td>NEAR SOUTH SIDE</td>\n",
       "    </tr>\n",
       "    <tr>\n",
       "        <td>498.437500</td>\n",
       "        <td>NEAR WEST SIDE</td>\n",
       "    </tr>\n",
       "    <tr>\n",
       "        <td>609.384615</td>\n",
       "        <td>NEW CITY</td>\n",
       "    </tr>\n",
       "    <tr>\n",
       "        <td>1077.285714</td>\n",
       "        <td>NORTH CENTER</td>\n",
       "    </tr>\n",
       "    <tr>\n",
       "        <td>321.625000</td>\n",
       "        <td>NORTH LAWNDALE</td>\n",
       "    </tr>\n",
       "    <tr>\n",
       "        <td>842.000000</td>\n",
       "        <td>NORTH PARK</td>\n",
       "    </tr>\n",
       "    <tr>\n",
       "        <td>808.625000</td>\n",
       "        <td>NORWOOD PARK</td>\n",
       "    </tr>\n",
       "    <tr>\n",
       "        <td>140.000000</td>\n",
       "        <td>OAKLAND</td>\n",
       "    </tr>\n",
       "    <tr>\n",
       "        <td>786.000000</td>\n",
       "        <td>OHARE</td>\n",
       "    </tr>\n",
       "    <tr>\n",
       "        <td>993.428571</td>\n",
       "        <td>PORTAGE PARK</td>\n",
       "    </tr>\n",
       "    <tr>\n",
       "        <td>324.000000</td>\n",
       "        <td>PULLMAN</td>\n",
       "    </tr>\n",
       "    <tr>\n",
       "        <td>386.750000</td>\n",
       "        <td>RIVERDALE</td>\n",
       "    </tr>\n",
       "    <tr>\n",
       "        <td>678.000000</td>\n",
       "        <td>ROGERS PARK</td>\n",
       "    </tr>\n",
       "    <tr>\n",
       "        <td>540.000000</td>\n",
       "        <td>ROSELAND</td>\n",
       "    </tr>\n",
       "    <tr>\n",
       "        <td>577.571428</td>\n",
       "        <td>SOUTH CHICAGO</td>\n",
       "    </tr>\n",
       "    <tr>\n",
       "        <td>464.750000</td>\n",
       "        <td>SOUTH DEERING</td>\n",
       "    </tr>\n",
       "    <tr>\n",
       "        <td>672.409090</td>\n",
       "        <td>SOUTH LAWNDALE</td>\n",
       "    </tr>\n",
       "    <tr>\n",
       "        <td>504.777777</td>\n",
       "        <td>SOUTH SHORE</td>\n",
       "    </tr>\n",
       "    <tr>\n",
       "        <td>626.857142</td>\n",
       "        <td>UPTOWN</td>\n",
       "    </tr>\n",
       "    <tr>\n",
       "        <td>445.111111</td>\n",
       "        <td>WASHINGTON HEIGHTS</td>\n",
       "    </tr>\n",
       "    <tr>\n",
       "        <td>529.600000</td>\n",
       "        <td>WASHINGTON PARK</td>\n",
       "    </tr>\n",
       "    <tr>\n",
       "        <td>1233.333333</td>\n",
       "        <td>WEST ELSDON</td>\n",
       "    </tr>\n",
       "    <tr>\n",
       "        <td>457.384615</td>\n",
       "        <td>WEST ENGLEWOOD</td>\n",
       "    </tr>\n",
       "    <tr>\n",
       "        <td>327.750000</td>\n",
       "        <td>WEST GARFIELD PARK</td>\n",
       "    </tr>\n",
       "    <tr>\n",
       "        <td>1051.750000</td>\n",
       "        <td>WEST LAWN</td>\n",
       "    </tr>\n",
       "    <tr>\n",
       "        <td>324.000000</td>\n",
       "        <td>WEST PULLMAN</td>\n",
       "    </tr>\n",
       "    <tr>\n",
       "        <td>910.777777</td>\n",
       "        <td>WEST RIDGE</td>\n",
       "    </tr>\n",
       "    <tr>\n",
       "        <td>471.450000</td>\n",
       "        <td>WEST TOWN</td>\n",
       "    </tr>\n",
       "    <tr>\n",
       "        <td>525.750000</td>\n",
       "        <td>WOODLAWN</td>\n",
       "    </tr>\n",
       "</table>"
      ],
      "text/plain": [
       "[(Decimal('858.000000'), 'ALBANY PARK'),\n",
       " (Decimal('2411.500000'), 'ARCHER HEIGHTS'),\n",
       " (Decimal('486.000000'), 'ARMOUR SQUARE'),\n",
       " (Decimal('810.375000'), 'ASHBURN'),\n",
       " (Decimal('417.500000'), 'AUBURN GRESHAM'),\n",
       " (Decimal('475.347826'), 'AUSTIN'),\n",
       " (Decimal('507.333333'), 'AVALON PARK'),\n",
       " (Decimal('910.000000'), 'AVONDALE'),\n",
       " (Decimal('1198.833333'), 'BELMONT CRAGIN'),\n",
       " (Decimal('409.000000'), 'BEVERLY'),\n",
       " (Decimal('633.400000'), 'BRIDGEPORT'),\n",
       " (Decimal('1205.875000'), 'BRIGHTON PARK'),\n",
       " (Decimal('549.000000'), 'BURNSIDE'),\n",
       " (Decimal('261.333333'), 'CALUMET HEIGHTS'),\n",
       " (Decimal('560.222222'), 'CHATHAM'),\n",
       " (Decimal('1012.285714'), 'CHICAGO LAWN'),\n",
       " (Decimal('521.250000'), 'CLEARING'),\n",
       " (Decimal('424.545454'), 'DOUGLAS'),\n",
       " (Decimal('761.333333'), 'DUNNING'),\n",
       " (Decimal('410.538461'), 'EAST GARFIELD PARK'),\n",
       " (Decimal('1061.000000'), 'EAST SIDE'),\n",
       " (Decimal('766.666666'), 'EDGEWATER'),\n",
       " (Decimal('455.000000'), 'EDISON PARK'),\n",
       " (Decimal('401.882352'), 'ENGLEWOOD'),\n",
       " (Decimal('477.000000'), 'FOREST GLEN'),\n",
       " (Decimal('265.500000'), 'FULLER PARK'),\n",
       " (Decimal('991.500000'), 'GAGE PARK'),\n",
       " (Decimal('910.400000'), 'GARFIELD RIDGE'),\n",
       " (Decimal('351.125000'), 'GRAND BOULEVARD'),\n",
       " (Decimal('405.100000'), 'GREATER GRAND CROSSING'),\n",
       " (Decimal('481.500000'), 'HEGEWISCH'),\n",
       " (Decimal('993.750000'), 'HERMOSA'),\n",
       " (Decimal('663.076923'), 'HUMBOLDT PARK'),\n",
       " (Decimal('482.500000'), 'HYDE PARK'),\n",
       " (Decimal('862.666666'), 'IRVING PARK'),\n",
       " (Decimal('877.500000'), 'JEFFERSON PARK'),\n",
       " (Decimal('612.428571'), 'KENWOOD'),\n",
       " (Decimal('641.363636'), 'LAKE VIEW'),\n",
       " (Decimal('802.142857'), 'LINCOLN PARK'),\n",
       " (Decimal('826.400000'), 'LINCOLN SQUARE'),\n",
       " (Decimal('668.272727'), 'LOGAN SQUARE'),\n",
       " (Decimal('871.000000'), 'LOOP'),\n",
       " (Decimal('659.727272'), 'LOWER WEST SIDE'),\n",
       " (Decimal('388.000000'), 'MCKINLEY PARK'),\n",
       " (Decimal('1317.000000'), 'MONTCLARE'),\n",
       " (Decimal('654.200000'), 'MORGAN PARK'),\n",
       " (Decimal('522.750000'), 'MOUNT GREENWOOD'),\n",
       " (Decimal('480.285714'), 'NEAR NORTH SIDE'),\n",
       " (Decimal('459.333333'), 'NEAR SOUTH SIDE'),\n",
       " (Decimal('498.437500'), 'NEAR WEST SIDE'),\n",
       " (Decimal('609.384615'), 'NEW CITY'),\n",
       " (Decimal('1077.285714'), 'NORTH CENTER'),\n",
       " (Decimal('321.625000'), 'NORTH LAWNDALE'),\n",
       " (Decimal('842.000000'), 'NORTH PARK'),\n",
       " (Decimal('808.625000'), 'NORWOOD PARK'),\n",
       " (Decimal('140.000000'), 'OAKLAND'),\n",
       " (Decimal('786.000000'), 'OHARE'),\n",
       " (Decimal('993.428571'), 'PORTAGE PARK'),\n",
       " (Decimal('324.000000'), 'PULLMAN'),\n",
       " (Decimal('386.750000'), 'RIVERDALE'),\n",
       " (Decimal('678.000000'), 'ROGERS PARK'),\n",
       " (Decimal('540.000000'), 'ROSELAND'),\n",
       " (Decimal('577.571428'), 'SOUTH CHICAGO'),\n",
       " (Decimal('464.750000'), 'SOUTH DEERING'),\n",
       " (Decimal('672.409090'), 'SOUTH LAWNDALE'),\n",
       " (Decimal('504.777777'), 'SOUTH SHORE'),\n",
       " (Decimal('626.857142'), 'UPTOWN'),\n",
       " (Decimal('445.111111'), 'WASHINGTON HEIGHTS'),\n",
       " (Decimal('529.600000'), 'WASHINGTON PARK'),\n",
       " (Decimal('1233.333333'), 'WEST ELSDON'),\n",
       " (Decimal('457.384615'), 'WEST ENGLEWOOD'),\n",
       " (Decimal('327.750000'), 'WEST GARFIELD PARK'),\n",
       " (Decimal('1051.750000'), 'WEST LAWN'),\n",
       " (Decimal('324.000000'), 'WEST PULLMAN'),\n",
       " (Decimal('910.777777'), 'WEST RIDGE'),\n",
       " (Decimal('471.450000'), 'WEST TOWN'),\n",
       " (Decimal('525.750000'), 'WOODLAWN')]"
      ]
     },
     "execution_count": 12,
     "metadata": {},
     "output_type": "execute_result"
    }
   ],
   "source": [
    "%sql select avg(\"COLLEGE_ENROLLMENT\") as \"Mean Enrollment\", \\\n",
    "    \"COMMUNITY_AREA_NAME\" as \"Community Area\" \\\n",
    "    from CHICAGO_PUBLIC_SCHOOLS\\\n",
    "    group by \"COMMUNITY_AREA_NAME\""
   ]
  },
  {
   "cell_type": "markdown",
   "metadata": {},
   "source": [
    "### Problem 3\n",
    "\n",
    "##### Find the number of schools that are healthy school certified"
   ]
  },
  {
   "cell_type": "code",
   "execution_count": 14,
   "metadata": {
    "collapsed": true
   },
   "outputs": [
    {
     "name": "stdout",
     "output_type": "stream",
     "text": [
      " * ibm_db_sa://zxg24050:***@dashdb-txn-sbox-yp-lon02-01.services.eu-gb.bluemix.net:50000/BLUDB\n",
      "Done.\n"
     ]
    },
    {
     "data": {
      "text/html": [
       "<table>\n",
       "    <tr>\n",
       "        <th>Health Certified Schools</th>\n",
       "    </tr>\n",
       "    <tr>\n",
       "        <td>16</td>\n",
       "    </tr>\n",
       "</table>"
      ],
      "text/plain": [
       "[(Decimal('16'),)]"
      ]
     },
     "execution_count": 14,
     "metadata": {},
     "output_type": "execute_result"
    }
   ],
   "source": [
    "%sql select COUNT(*) as \"Health Certified Schools\"\\\n",
    "    from CHICAGO_PUBLIC_SCHOOLS\\\n",
    "    where \"HEALTHY_SCHOOL_CERTIFIED\" like 'Yes';"
   ]
  },
  {
   "cell_type": "markdown",
   "metadata": {},
   "source": [
    "### Problem 4\n",
    "\n",
    "##### How many observations have a Location Description value of GAS STATION\n"
   ]
  },
  {
   "cell_type": "code",
   "execution_count": 16,
   "metadata": {
    "collapsed": true
   },
   "outputs": [
    {
     "name": "stdout",
     "output_type": "stream",
     "text": [
      " * ibm_db_sa://zxg24050:***@dashdb-txn-sbox-yp-lon02-01.services.eu-gb.bluemix.net:50000/BLUDB\n",
      "Done.\n"
     ]
    },
    {
     "data": {
      "text/html": [
       "<table>\n",
       "    <tr>\n",
       "        <th>Gas Station Observations</th>\n",
       "    </tr>\n",
       "    <tr>\n",
       "        <td>6</td>\n",
       "    </tr>\n",
       "</table>"
      ],
      "text/plain": [
       "[(Decimal('6'),)]"
      ]
     },
     "execution_count": 16,
     "metadata": {},
     "output_type": "execute_result"
    }
   ],
   "source": [
    "%sql select COUNT(*) AS \"Gas Station Observations\" \\\n",
    "    from CHICAGO_CRIME_DATA \\\n",
    "    where LOCATION_DESCRIPTION LIKE 'GAS STATION';"
   ]
  },
  {
   "cell_type": "markdown",
   "metadata": {},
   "source": [
    "### Problem 5\n",
    "\n",
    "##### Retrieve a list of the top 10 community areas which have most number of schools and sorted in descending order."
   ]
  },
  {
   "cell_type": "code",
   "execution_count": 25,
   "metadata": {
    "collapsed": true
   },
   "outputs": [
    {
     "name": "stdout",
     "output_type": "stream",
     "text": [
      " * ibm_db_sa://zxg24050:***@dashdb-txn-sbox-yp-lon02-01.services.eu-gb.bluemix.net:50000/BLUDB\n",
      "Done.\n"
     ]
    },
    {
     "data": {
      "text/html": [
       "<table>\n",
       "    <tr>\n",
       "        <th>Area</th>\n",
       "        <th>Top School Count</th>\n",
       "    </tr>\n",
       "    <tr>\n",
       "        <td>AUSTIN</td>\n",
       "        <td>23</td>\n",
       "    </tr>\n",
       "    <tr>\n",
       "        <td>SOUTH LAWNDALE</td>\n",
       "        <td>22</td>\n",
       "    </tr>\n",
       "    <tr>\n",
       "        <td>WEST TOWN</td>\n",
       "        <td>20</td>\n",
       "    </tr>\n",
       "    <tr>\n",
       "        <td>ENGLEWOOD</td>\n",
       "        <td>17</td>\n",
       "    </tr>\n",
       "    <tr>\n",
       "        <td>NEAR WEST SIDE</td>\n",
       "        <td>16</td>\n",
       "    </tr>\n",
       "    <tr>\n",
       "        <td>NORTH LAWNDALE</td>\n",
       "        <td>16</td>\n",
       "    </tr>\n",
       "    <tr>\n",
       "        <td>EAST GARFIELD PARK</td>\n",
       "        <td>13</td>\n",
       "    </tr>\n",
       "    <tr>\n",
       "        <td>ROSELAND</td>\n",
       "        <td>13</td>\n",
       "    </tr>\n",
       "    <tr>\n",
       "        <td>NEW CITY</td>\n",
       "        <td>13</td>\n",
       "    </tr>\n",
       "    <tr>\n",
       "        <td>HUMBOLDT PARK</td>\n",
       "        <td>13</td>\n",
       "    </tr>\n",
       "</table>"
      ],
      "text/plain": [
       "[('AUSTIN', Decimal('23')),\n",
       " ('SOUTH LAWNDALE', Decimal('22')),\n",
       " ('WEST TOWN', Decimal('20')),\n",
       " ('ENGLEWOOD', Decimal('17')),\n",
       " ('NEAR WEST SIDE', Decimal('16')),\n",
       " ('NORTH LAWNDALE', Decimal('16')),\n",
       " ('EAST GARFIELD PARK', Decimal('13')),\n",
       " ('ROSELAND', Decimal('13')),\n",
       " ('NEW CITY', Decimal('13')),\n",
       " ('HUMBOLDT PARK', Decimal('13'))]"
      ]
     },
     "execution_count": 25,
     "metadata": {},
     "output_type": "execute_result"
    }
   ],
   "source": [
    "%sql select \"COMMUNITY_AREA_NAME\" as \"Area\", \\\n",
    "    count(\"COMMUNITY_AREA_NAME\") as \"Top School Count\" \\\n",
    "    from CHICAGO_PUBLIC_SCHOOLS \\\n",
    "    group by \"COMMUNITY_AREA_NAME\" \\\n",
    "    order by \"Top School Count\" desc \\\n",
    "    limit 10;"
   ]
  },
  {
   "cell_type": "markdown",
   "metadata": {},
   "source": [
    "### Problem 6\n",
    "\n",
    "##### How many observations have value MOTOR VEHICLE THEFT in the Primary Type variable (this is the number of crimes related to Motor vehicles)"
   ]
  },
  {
   "cell_type": "code",
   "execution_count": 27,
   "metadata": {
    "collapsed": true
   },
   "outputs": [
    {
     "name": "stdout",
     "output_type": "stream",
     "text": [
      " * ibm_db_sa://zxg24050:***@dashdb-txn-sbox-yp-lon02-01.services.eu-gb.bluemix.net:50000/BLUDB\n",
      "Done.\n"
     ]
    },
    {
     "data": {
      "text/html": [
       "<table>\n",
       "    <tr>\n",
       "        <th>Motor Vehicle Theft Observations</th>\n",
       "    </tr>\n",
       "    <tr>\n",
       "        <td>24</td>\n",
       "    </tr>\n",
       "</table>"
      ],
      "text/plain": [
       "[(Decimal('24'),)]"
      ]
     },
     "execution_count": 27,
     "metadata": {},
     "output_type": "execute_result"
    }
   ],
   "source": [
    "%sql select COUNT(*) as \"Motor Vehicle Theft Observations\" \\\n",
    "    from CHICAGO_CRIME_DATA \\\n",
    "    where \"PRIMARY_TYPE\" like 'MOTOR VEHICLE THEFT';"
   ]
  },
  {
   "cell_type": "markdown",
   "metadata": {},
   "source": [
    "### Problem 7\n",
    "\n",
    "##### Use INNER JOIN to find the __MINIMUM__ (i.e. lowest) “Average Student Attendance” for the community area where hardship is 96. "
   ]
  },
  {
   "cell_type": "code",
   "execution_count": 10,
   "metadata": {},
   "outputs": [
    {
     "name": "stdout",
     "output_type": "stream",
     "text": [
      " * ibm_db_sa://zxg24050:***@dashdb-txn-sbox-yp-lon02-01.services.eu-gb.bluemix.net:50000/BLUDB\n",
      "(ibm_db_dbi.ProgrammingError) ibm_db_dbi::ProgrammingError: SQLNumResultCols failed: [IBM][CLI Driver][DB2/LINUXX8664] SQL0119N  An expression starting with \"HARDSHIP_INDEX\" specified in a SELECT clause, HAVING clause, or ORDER BY clause is not specified in the GROUP BY clause or it is in a SELECT clause, HAVING clause, or ORDER BY clause with a column function and no GROUP BY clause is specified.  SQLSTATE=42803 SQLCODE=-119 [SQL: 'select CPS.COMMUNITY_AREA_NAME as \"Area\",  min(CPS.AVERAGE_STUDENT_ATTENDANCE) as \"min School Attendance\", CD.HARDSHIP_INDEX as \"Hardship Index\"  from CHICAGO_PUBLIC_SCHOOLS as CPS  INNER JOIN CENSUS_DATA as CD on CPS.COMMUNITY_AREA_NUMBER=CD.COMMUNITY_AREA_NUMBER group by CPS.COMMUNITY_AREA_NAME having CD.HARDSHIP_INDEX=\\'96\\''] (Background on this error at: http://sqlalche.me/e/f405)\n"
     ]
    }
   ],
   "source": [
    "%sql select CPS.COMMUNITY_AREA_NAME as \"Area\", \\\n",
    "min(CPS.AVERAGE_STUDENT_ATTENDANCE) as \"min School Attendance\",\\\n",
    "CD.HARDSHIP_INDEX as \"Hardship Index\" \\\n",
    "from CHICAGO_PUBLIC_SCHOOLS as CPS \\\n",
    "INNER JOIN CENSUS_DATA as CD on CPS.COMMUNITY_AREA_NUMBER=CD.COMMUNITY_AREA_NUMBER\\\n",
    "group by CPS.COMMUNITY_AREA_NAME having CD.HARDSHIP_INDEX='96'"
   ]
  },
  {
   "cell_type": "markdown",
   "metadata": {},
   "source": [
    "Hint 1: Look at the values of the columns are you using to JOIN the tables ON. It might be easier to join on numeric fields."
   ]
  },
  {
   "cell_type": "markdown",
   "metadata": {},
   "source": [
    "Hint 2: Although not required for the solution, if your select clause has additional columns like \"Community Area Name\" you will need to use the GROUP BY clause."
   ]
  },
  {
   "cell_type": "markdown",
   "metadata": {},
   "source": [
    "Copyright &copy; 2018 [cognitiveclass.ai](cognitiveclass.ai?utm_source=bducopyrightlink&utm_medium=dswb&utm_campaign=bdu). This notebook and its source code are released under the terms of the [MIT License](https://bigdatauniversity.com/mit-license/).\n"
   ]
  }
 ],
 "metadata": {
  "kernelspec": {
   "display_name": "Python 3",
   "language": "python",
   "name": "python3"
  },
  "language_info": {
   "codemirror_mode": {
    "name": "ipython",
    "version": 3
   },
   "file_extension": ".py",
   "mimetype": "text/x-python",
   "name": "python",
   "nbconvert_exporter": "python",
   "pygments_lexer": "ipython3",
   "version": "3.6.6"
  },
  "widgets": {
   "state": {},
   "version": "1.1.2"
  }
 },
 "nbformat": 4,
 "nbformat_minor": 2
}
