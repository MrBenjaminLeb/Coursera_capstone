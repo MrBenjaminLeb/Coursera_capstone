{
 "cells": [
  {
   "cell_type": "markdown",
   "metadata": {},
   "source": [
    "<a href=\"https://cognitiveclass.ai\"><img src = \"https://ibm.box.com/shared/static/9gegpsmnsoo25ikkbl4qzlvlyjbgxs5x.png\" width = 400> </a>\n",
    "\n",
    "<h1 align=center><font size = 5>Benjamin Lebona</font></h1>"
   ]
  },
  {
   "cell_type": "markdown",
   "metadata": {},
   "source": [
    "## Introduction\n",
    "\n",
    "In this lab I will attempt to answer apply data science methodology around an email scinario. First I will give the perspective from the client attempting to solve a problem, then from a data scientist applying data science methodologies to find a solution.\n",
    "\n",
    "------------"
   ]
  },
  {
   "cell_type": "markdown",
   "metadata": {},
   "source": [
    "## Table of Contents\n",
    "\n",
    "\n",
    "<div class=\"alert alert-block alert-info\" style=\"margin-top: 20px\">\n",
    "\n",
    "1. [Problem description](#0)<br>\n",
    "2. [Business Understanding](#1)<br>\n",
    "3. [Analytic Approach](#2)<br>\n",
    "4. [Data Requirements](#3)<br>\n",
    "5. [Data Collection](#4)<br>\n",
    "6. [Data Understanding](#5)<br>\n",
    "7. [Data Preparation](#6)<br>\n",
    "8. [Data Modeling](#7)<br>\n",
    "9. [Deployment and Feedback](#8)<br>\n",
    "</div>\n",
    "<hr>"
   ]
  },
  {
   "cell_type": "markdown",
   "metadata": {},
   "source": [
    "# Problem description <a id=\"0\"></a>"
   ]
  },
  {
   "cell_type": "markdown",
   "metadata": {},
   "source": [
    "<a href=\"http://hero.wikia.com/wiki/Boss_Baby\">Super boss</a> baby of Baby Corp. has noticed the waning speeds of email transfers. This has hindered the distributing his legendary memos and now requires some type of way to prevent this laps in performance from happening again by _anticipating these laps in performance by the servers_.\n",
    "\n",
    "<img src = \"https://vignette.wikia.nocookie.net/p__/images/e/e3/Boss_Babt.png/revision/latest/scale-to-width-down/350?cb=20170324214321&path-prefix=protagonist\" width = 300>\n",
    "<hr>"
   ]
  },
  {
   "cell_type": "markdown",
   "metadata": {},
   "source": [
    "# Business Understanding <a id=\"1\"></a>"
   ]
  },
  {
   "cell_type": "markdown",
   "metadata": {},
   "source": [
    "<img src=\"https://ibm.box.com/shared/static/eyl60n09iige3eo5tac3dweqko2s58oo.png\" width=500>"
   ]
  },
  {
   "cell_type": "markdown",
   "metadata": {},
   "source": [
    "first we'd need to clarify the goal the client:_anticipating performance lapses in email transferes_. "
   ]
  },
  {
   "cell_type": "markdown",
   "metadata": {},
   "source": [
    "A possible way to do this would be to analyse loads dealt with by the server (i.e. emails transfered) and find out if we are able to predict moments where these stalls happen.\n",
    "<hr>"
   ]
  },
  {
   "cell_type": "markdown",
   "metadata": {},
   "source": [
    "# Analytic Approach <a id=\"2\"></a>"
   ]
  },
  {
   "cell_type": "markdown",
   "metadata": {},
   "source": [
    "<img src=\"https://ibm.box.com/shared/static/i19z7bijbksl5kkmm81ngg39y0ruzirh.png\" width=500>"
   ]
  },
  {
   "cell_type": "markdown",
   "metadata": {},
   "source": [
    "In this phase we will attempt to identify what type of patterns to answer the problem. A possible solution would be to _map out serer loads over time to analyze the trend of increasing loads on the system_."
   ]
  },
  {
   "cell_type": "markdown",
   "metadata": {},
   "source": [
    "A regression modeled around the temporal expantion of the system.\n",
    "<hr>"
   ]
  },
  {
   "cell_type": "markdown",
   "metadata": {},
   "source": [
    "# Data Requirements <a id=\"3\"></a>"
   ]
  },
  {
   "cell_type": "markdown",
   "metadata": {},
   "source": [
    "<img src=\"https://ibm.box.com/shared/static/dv60vn9nq3kb3n7efc5lxtxfgp11stfz.png\" width=500>"
   ]
  },
  {
   "cell_type": "markdown",
   "metadata": {},
   "source": [
    "The data requirements would be a derect result of the chosen analytics approach. In this case study, it would be the units of emails sent over  a stretch of time. \n",
    "<hr>"
   ]
  },
  {
   "cell_type": "markdown",
   "metadata": {},
   "source": [
    "# Data Collection <a id=\"4\"></a>"
   ]
  },
  {
   "cell_type": "markdown",
   "metadata": {},
   "source": [
    "<img src = \"https://ibm.box.com/shared/static/hgocgq6no4d09pbr140hmt3jtjizy2da.png\" width=500>"
   ]
  },
  {
   "cell_type": "markdown",
   "metadata": {},
   "source": [
    "The loads on the email servers could be obtained from some type of server log, and they'd correspond to some point in time. \n",
    "<hr>"
   ]
  },
  {
   "cell_type": "markdown",
   "metadata": {},
   "source": [
    "# Data Understanding <a id=\"5\"></a>"
   ]
  },
  {
   "cell_type": "markdown",
   "metadata": {},
   "source": [
    "<img src=\"https://ibm.box.com/shared/static/89geb3m0ge1z73s92hl8o8wdcpcrggtz.png\" width=500>"
   ]
  },
  {
   "cell_type": "markdown",
   "metadata": {},
   "source": [
    "Here the temporal data would be visualized in order to validate the initial intuition determined from the analysing stage, and to validate the data aquired from the sources. \n",
    "\n",
    "We'd verify that server loads can correclty be mapped to particular points in time.\n",
    "<hr>"
   ]
  },
  {
   "cell_type": "markdown",
   "metadata": {},
   "source": [
    "# Data Preparation <a id=\"6\"></a>"
   ]
  },
  {
   "cell_type": "markdown",
   "metadata": {},
   "source": [
    "<img src=\"https://ibm.box.com/shared/static/lqc2j3r0ndhokh77mubohwjqybzf8dhk.png\" width=500>"
   ]
  },
  {
   "cell_type": "markdown",
   "metadata": {},
   "source": [
    "Data aquired from the sourses would be prepared in order to facilitate subsequent phases in the methodology cycle. including _duplicates, missing data, and data formats_.\n",
    "<hr>"
   ]
  },
  {
   "cell_type": "markdown",
   "metadata": {},
   "source": [
    "# Data Modeling <a id=\"7\"></a>"
   ]
  },
  {
   "cell_type": "markdown",
   "metadata": {},
   "source": [
    "<img src=\"https://ibm.box.com/shared/static/d6fiatxvraho57fq3tfyblsf38fzi61f.png\" width=500>"
   ]
  },
  {
   "cell_type": "markdown",
   "metadata": {},
   "source": [
    "Here models would be applied to the temporal data to determine the best indicator of the trend. Although i doubt any problem could be solved by such a simple solution, a liniar regression could be applied to the data to predict future data loads/system requirements for the growing loads placed on it."
   ]
  },
  {
   "cell_type": "markdown",
   "metadata": {},
   "source": [
    "<img src=\"https://proxy.duckduckgo.com/iu/?u=https%3A%2F%2Fupload.wikimedia.org%2Fwikipedia%2Fcommons%2Fthumb%2F3%2F3a%2FLinear_regression.svg%2F400px-Linear_regression.svg.png&f=1\" width=500>\n",
    "<hr>\n",
    "\n"
   ]
  },
  {
   "cell_type": "markdown",
   "metadata": {},
   "source": [
    "# Model Evaluation <a id=\"8\"></a>"
   ]
  },
  {
   "cell_type": "markdown",
   "metadata": {},
   "source": [
    "<img src=\"https://ibm.box.com/shared/static/prc3kksci2a6deks36jpyf4cf4oxh74a.png\" width=500>"
   ]
  },
  {
   "cell_type": "markdown",
   "metadata": {},
   "source": [
    "at this point a list of test samples would be analysed with the model in order to determine the models acuracy. if the model was able to determine the load on the system at a particular point in time, with an acceptable error threshold, then the model is ready for the subsequent phases of the methodology. otherwise parameters would be tuned in order to get an acceptable probability.\n",
    "<hr>\n"
   ]
  },
  {
   "cell_type": "markdown",
   "metadata": {},
   "source": [
    "# Deployment and Feedback <a id=\"9\"></a>"
   ]
  },
  {
   "cell_type": "markdown",
   "metadata": {},
   "source": [
    "At this stage of the methodology the trained model would be deployed onto the production system to predict server loads and possibly indicate when system expansion would be necessary. This whole methodology would be a never ending iterative process where the model would contiually be refined and redeployed - distributing vital memos to the entire organization."
   ]
  },
  {
   "cell_type": "markdown",
   "metadata": {},
   "source": [
    "<img src=\"https://proxy.duckduckgo.com/iu/?u=http%3A%2F%2Fs3.amazonaws.com%2Fs3.cgsociety.org%2Farticles%2F2016%2F12%2F15%2Fo_LrCysuTuVZamUhBCvrBmX9PFXNHvAv.jpg&f=1\" width=500>"
   ]
  },
  {
   "cell_type": "code",
   "execution_count": null,
   "metadata": {},
   "outputs": [],
   "source": []
  }
 ],
 "metadata": {
  "kernelspec": {
   "display_name": "Python 3",
   "language": "python",
   "name": "python3"
  },
  "language_info": {
   "codemirror_mode": {
    "name": "ipython",
    "version": 3
   },
   "file_extension": ".py",
   "mimetype": "text/x-python",
   "name": "python",
   "nbconvert_exporter": "python",
   "pygments_lexer": "ipython3",
   "version": "3.6.6"
  }
 },
 "nbformat": 4,
 "nbformat_minor": 2
}
